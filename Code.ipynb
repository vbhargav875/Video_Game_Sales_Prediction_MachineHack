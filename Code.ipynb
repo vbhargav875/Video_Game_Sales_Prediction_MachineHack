{
  "nbformat": 4,
  "nbformat_minor": 0,
  "metadata": {
    "colab": {
      "name": "Code.ipynb",
      "provenance": [],
      "collapsed_sections": []
    },
    "kernelspec": {
      "name": "python3",
      "display_name": "Python 3"
    }
  },
  "cells": [
    {
      "cell_type": "code",
      "metadata": {
        "id": "1syYXe3bmqJp",
        "colab_type": "code",
        "colab": {
          "base_uri": "https://localhost:8080/",
          "height": 71
        },
        "outputId": "6e004633-9cc4-4eb7-c867-5208f5331d38"
      },
      "source": [
        "from google.colab import files\n",
        "\n",
        "import pandas as pd\n",
        "import seaborn as sns\n",
        "import numpy as np\n",
        "\n",
        "import matplotlib.pyplot as plt\n",
        "\n",
        "from sklearn.preprocessing import LabelEncoder\n",
        "from sklearn.model_selection import train_test_split\n",
        "from sklearn.model_selection import cross_val_score\n",
        "\n",
        "from sklearn.model_selection import KFold,StratifiedKFold, TimeSeriesSplit\n",
        "from sklearn.metrics import mean_squared_error\n",
        "\n",
        "from lightgbm import LGBMRegressor\n",
        "from xgboost import XGBRegressor"
      ],
      "execution_count": 2,
      "outputs": [
        {
          "output_type": "stream",
          "text": [
            "/usr/local/lib/python3.6/dist-packages/statsmodels/tools/_testing.py:19: FutureWarning: pandas.util.testing is deprecated. Use the functions in the public API at pandas.testing instead.\n",
            "  import pandas.util.testing as tm\n"
          ],
          "name": "stderr"
        }
      ]
    },
    {
      "cell_type": "code",
      "metadata": {
        "id": "-x_uCBhWm9Yc",
        "colab_type": "code",
        "colab": {}
      },
      "source": [
        "train = pd.read_csv(\"/content/drive/My Drive/Datasets/VideoGame/Train.csv\")\n",
        "test = pd.read_csv(\"/content/drive/My Drive/Datasets/VideoGame/Test.csv\")\n",
        "sample_sub = pd.read_csv(\"/content/drive/My Drive/Datasets/VideoGame/Sample_Submission.csv\")"
      ],
      "execution_count": 3,
      "outputs": []
    },
    {
      "cell_type": "code",
      "metadata": {
        "id": "xBHX0QFrnOQE",
        "colab_type": "code",
        "colab": {
          "base_uri": "https://localhost:8080/",
          "height": 204
        },
        "outputId": "b5a66a6a-8772-4428-894d-645766ff5e24"
      },
      "source": [
        "train.head()"
      ],
      "execution_count": 4,
      "outputs": [
        {
          "output_type": "execute_result",
          "data": {
            "text/html": [
              "<div>\n",
              "<style scoped>\n",
              "    .dataframe tbody tr th:only-of-type {\n",
              "        vertical-align: middle;\n",
              "    }\n",
              "\n",
              "    .dataframe tbody tr th {\n",
              "        vertical-align: top;\n",
              "    }\n",
              "\n",
              "    .dataframe thead th {\n",
              "        text-align: right;\n",
              "    }\n",
              "</style>\n",
              "<table border=\"1\" class=\"dataframe\">\n",
              "  <thead>\n",
              "    <tr style=\"text-align: right;\">\n",
              "      <th></th>\n",
              "      <th>ID</th>\n",
              "      <th>CONSOLE</th>\n",
              "      <th>YEAR</th>\n",
              "      <th>CATEGORY</th>\n",
              "      <th>PUBLISHER</th>\n",
              "      <th>RATING</th>\n",
              "      <th>CRITICS_POINTS</th>\n",
              "      <th>USER_POINTS</th>\n",
              "      <th>SalesInMillions</th>\n",
              "    </tr>\n",
              "  </thead>\n",
              "  <tbody>\n",
              "    <tr>\n",
              "      <th>0</th>\n",
              "      <td>2860</td>\n",
              "      <td>ds</td>\n",
              "      <td>2008</td>\n",
              "      <td>role-playing</td>\n",
              "      <td>Nintendo</td>\n",
              "      <td>E</td>\n",
              "      <td>2.833333</td>\n",
              "      <td>0.303704</td>\n",
              "      <td>1.779257</td>\n",
              "    </tr>\n",
              "    <tr>\n",
              "      <th>1</th>\n",
              "      <td>731</td>\n",
              "      <td>wii</td>\n",
              "      <td>2012</td>\n",
              "      <td>simulation</td>\n",
              "      <td>Konami Digital Entertainment</td>\n",
              "      <td>E10+</td>\n",
              "      <td>13.200000</td>\n",
              "      <td>1.640000</td>\n",
              "      <td>0.215050</td>\n",
              "    </tr>\n",
              "    <tr>\n",
              "      <th>2</th>\n",
              "      <td>495</td>\n",
              "      <td>pc</td>\n",
              "      <td>2019</td>\n",
              "      <td>shooter</td>\n",
              "      <td>Activision</td>\n",
              "      <td>M</td>\n",
              "      <td>4.562500</td>\n",
              "      <td>0.006410</td>\n",
              "      <td>0.534402</td>\n",
              "    </tr>\n",
              "    <tr>\n",
              "      <th>3</th>\n",
              "      <td>2641</td>\n",
              "      <td>ps2</td>\n",
              "      <td>2002</td>\n",
              "      <td>sports</td>\n",
              "      <td>Electronic Arts</td>\n",
              "      <td>E</td>\n",
              "      <td>4.181818</td>\n",
              "      <td>0.326923</td>\n",
              "      <td>1.383964</td>\n",
              "    </tr>\n",
              "    <tr>\n",
              "      <th>4</th>\n",
              "      <td>811</td>\n",
              "      <td>ps3</td>\n",
              "      <td>2013</td>\n",
              "      <td>action</td>\n",
              "      <td>Activision</td>\n",
              "      <td>M</td>\n",
              "      <td>2.259259</td>\n",
              "      <td>0.032579</td>\n",
              "      <td>0.082671</td>\n",
              "    </tr>\n",
              "  </tbody>\n",
              "</table>\n",
              "</div>"
            ],
            "text/plain": [
              "     ID CONSOLE  YEAR  ... CRITICS_POINTS USER_POINTS SalesInMillions\n",
              "0  2860      ds  2008  ...       2.833333    0.303704        1.779257\n",
              "1   731     wii  2012  ...      13.200000    1.640000        0.215050\n",
              "2   495      pc  2019  ...       4.562500    0.006410        0.534402\n",
              "3  2641     ps2  2002  ...       4.181818    0.326923        1.383964\n",
              "4   811     ps3  2013  ...       2.259259    0.032579        0.082671\n",
              "\n",
              "[5 rows x 9 columns]"
            ]
          },
          "metadata": {
            "tags": []
          },
          "execution_count": 4
        }
      ]
    },
    {
      "cell_type": "code",
      "metadata": {
        "id": "htrMoZsnnQM3",
        "colab_type": "code",
        "colab": {
          "base_uri": "https://localhost:8080/",
          "height": 51
        },
        "outputId": "76915600-cf9e-4caa-d73e-ef0654ff75bf"
      },
      "source": [
        "print(train.shape)\n",
        "print(test.shape)"
      ],
      "execution_count": 5,
      "outputs": [
        {
          "output_type": "stream",
          "text": [
            "(3506, 9)\n",
            "(1503, 8)\n"
          ],
          "name": "stdout"
        }
      ]
    },
    {
      "cell_type": "code",
      "metadata": {
        "id": "aqi06knm3lPn",
        "colab_type": "code",
        "colab": {}
      },
      "source": [
        "ID_COL = 'ID'\n",
        "TARGET_COL = 'SalesInMillions'"
      ],
      "execution_count": 6,
      "outputs": []
    },
    {
      "cell_type": "markdown",
      "metadata": {
        "id": "IZURc9GZWoDC",
        "colab_type": "text"
      },
      "source": [
        "## EDA"
      ]
    },
    {
      "cell_type": "code",
      "metadata": {
        "id": "D_2a01unaAj7",
        "colab_type": "code",
        "colab": {
          "base_uri": "https://localhost:8080/",
          "height": 514
        },
        "outputId": "9f9d5ac8-0b0d-49bd-b059-734babd60b8c"
      },
      "source": [
        "f, ax = plt.subplots(figsize=(15, 8))\n",
        "sns.stripplot(x=\"CATEGORY\", y=TARGET_COL, data=train, ax=ax)"
      ],
      "execution_count": 7,
      "outputs": [
        {
          "output_type": "execute_result",
          "data": {
            "text/plain": [
              "<matplotlib.axes._subplots.AxesSubplot at 0x7f9a1a405748>"
            ]
          },
          "metadata": {
            "tags": []
          },
          "execution_count": 7
        },
        {
          "output_type": "display_data",
          "data": {
            "image/png": "[encoded data removed]",
            "text/plain": [
              "<Figure size 1080x576 with 1 Axes>"
            ]
          },
          "metadata": {
            "tags": [],
            "needs_background": "light"
          }
        }
      ]
    },
    {
      "cell_type": "code",
      "metadata": {
        "id": "yteTwt6EaAhd",
        "colab_type": "code",
        "colab": {
          "base_uri": "https://localhost:8080/",
          "height": 514
        },
        "outputId": "27ced845-aeb1-4a84-a90a-298c1d8b5cc9"
      },
      "source": [
        "f, ax = plt.subplots(figsize=(15, 8))\n",
        "sns.stripplot(x=\"CONSOLE\", y=TARGET_COL, data=train, ax=ax)"
      ],
      "execution_count": 8,
      "outputs": [
        {
          "output_type": "execute_result",
          "data": {
            "text/plain": [
              "<matplotlib.axes._subplots.AxesSubplot at 0x7f9a19e4d390>"
            ]
          },
          "metadata": {
            "tags": []
          },
          "execution_count": 8
        },
        {
          "output_type": "display_data",
          "data": {
            "image/png": "[encoded data removed]",
            "text/plain": [
              "<Figure size 1080x576 with 1 Axes>"
            ]
          },
          "metadata": {
            "tags": [],
            "needs_background": "light"
          }
        }
      ]
    },
    {
      "cell_type": "code",
      "metadata": {
        "id": "Km9Z7C1vqCsZ",
        "colab_type": "code",
        "colab": {}
      },
      "source": [
        "train = train[train.SalesInMillions<80] "
      ],
      "execution_count": 9,
      "outputs": []
    },
    {
      "cell_type": "code",
      "metadata": {
        "id": "Y0_BlfV6nVtL",
        "colab_type": "code",
        "colab": {
          "base_uri": "https://localhost:8080/",
          "height": 296
        },
        "outputId": "800a9bb3-49f7-4346-d6bb-4fd66aa46a9c"
      },
      "source": [
        "sns.distplot(train[TARGET_COL])"
      ],
      "execution_count": 11,
      "outputs": [
        {
          "output_type": "execute_result",
          "data": {
            "text/plain": [
              "<matplotlib.axes._subplots.AxesSubplot at 0x7f9a19e00c88>"
            ]
          },
          "metadata": {
            "tags": []
          },
          "execution_count": 11
        },
        {
          "output_type": "display_data",
          "data": {
            "image/png": "[encoded data removed]",
            "text/plain": [
              "<Figure size 432x288 with 1 Axes>"
            ]
          },
          "metadata": {
            "tags": [],
            "needs_background": "light"
          }
        }
      ]
    },
    {
      "cell_type": "code",
      "metadata": {
        "id": "uNioqNHJp3Kj",
        "colab_type": "code",
        "colab": {
          "base_uri": "https://localhost:8080/",
          "height": 296
        },
        "outputId": "ae55a755-a664-4d9c-d0f1-2ab435698bb5"
      },
      "source": [
        "train[TARGET_COL]=np.log1p(train[TARGET_COL])\n",
        "sns.distplot(train[TARGET_COL])"
      ],
      "execution_count": 12,
      "outputs": [
        {
          "output_type": "execute_result",
          "data": {
            "text/plain": [
              "<matplotlib.axes._subplots.AxesSubplot at 0x7f9a19cf79b0>"
            ]
          },
          "metadata": {
            "tags": []
          },
          "execution_count": 12
        },
        {
          "output_type": "display_data",
          "data": {
            "image/png": "[encoded data removed]",
            "text/plain": [
              "<Figure size 432x288 with 1 Axes>"
            ]
          },
          "metadata": {
            "tags": [],
            "needs_background": "light"
          }
        }
      ]
    },
    {
      "cell_type": "code",
      "metadata": {
        "id": "g5N90xvowtli",
        "colab_type": "code",
        "colab": {
          "base_uri": "https://localhost:8080/",
          "height": 187
        },
        "outputId": "0f043835-9aa1-4797-e51d-f647afe2a83f"
      },
      "source": [
        "train.nunique()"
      ],
      "execution_count": 13,
      "outputs": [
        {
          "output_type": "execute_result",
          "data": {
            "text/plain": [
              "ID                 2653\n",
              "CONSOLE              17\n",
              "YEAR                 23\n",
              "CATEGORY             12\n",
              "PUBLISHER           204\n",
              "RATING                6\n",
              "CRITICS_POINTS     1683\n",
              "USER_POINTS        2186\n",
              "SalesInMillions    3505\n",
              "dtype: int64"
            ]
          },
          "metadata": {
            "tags": []
          },
          "execution_count": 13
        }
      ]
    },
    {
      "cell_type": "code",
      "metadata": {
        "id": "CpWwSabQTJwm",
        "colab_type": "code",
        "colab": {
          "base_uri": "https://localhost:8080/",
          "height": 34
        },
        "outputId": "77def647-e694-4a07-f186-23c0075f72a0"
      },
      "source": [
        "print(\"Number of train null values : \",train.isnull().sum().sum())"
      ],
      "execution_count": 14,
      "outputs": [
        {
          "output_type": "stream",
          "text": [
            "Number of train null values :  0\n"
          ],
          "name": "stdout"
        }
      ]
    },
    {
      "cell_type": "code",
      "metadata": {
        "id": "0VSJHSaCwy-S",
        "colab_type": "code",
        "colab": {
          "base_uri": "https://localhost:8080/",
          "height": 34
        },
        "outputId": "f4f931db-2462-47cf-8067-7fbff9c301c7"
      },
      "source": [
        "df = pd.concat([train,test],axis=0)\n",
        "print(df.shape)"
      ],
      "execution_count": 15,
      "outputs": [
        {
          "output_type": "stream",
          "text": [
            "(5008, 9)\n"
          ],
          "name": "stdout"
        }
      ]
    },
    {
      "cell_type": "markdown",
      "metadata": {
        "id": "16AG58W8WsMn",
        "colab_type": "text"
      },
      "source": [
        "## Feature Engineering"
      ]
    },
    {
      "cell_type": "code",
      "metadata": {
        "id": "BrXdxPdtGXLL",
        "colab_type": "code",
        "colab": {}
      },
      "source": [
        "df['Unique_Game_Per_Console'] = df.groupby(['CONSOLE'])[ID_COL].transform('nunique')\n",
        "df['Unique_Game_Per_Category'] = df.groupby(['CATEGORY'])[ID_COL].transform('nunique')\n",
        "df['Unique_Game_Per_Publisher'] = df.groupby(['PUBLISHER'])[ID_COL].transform('nunique')\n",
        "df['Unique_Game_Per_Rating'] = df.groupby(['RATING'])[ID_COL].transform('nunique')\n",
        "df['Unique_Game_Per_Year'] = df.groupby(['YEAR'])[ID_COL].transform('nunique')"
      ],
      "execution_count": 16,
      "outputs": []
    },
    {
      "cell_type": "code",
      "metadata": {
        "id": "fAY4ayNGvW3C",
        "colab_type": "code",
        "colab": {}
      },
      "source": [
        "df['Unique_Category_Per_Publisher'] = df.groupby(['PUBLISHER'])['CATEGORY'].transform('nunique')\n",
        "df['Unique_Publisher_Per_Category'] = df.groupby(['CATEGORY'])['PUBLISHER'].transform('nunique')"
      ],
      "execution_count": 17,
      "outputs": []
    },
    {
      "cell_type": "code",
      "metadata": {
        "id": "GcpoDujgxfmk",
        "colab_type": "code",
        "colab": {}
      },
      "source": [
        "df['Unique_Console_Per_Publisher'] = df.groupby(['PUBLISHER'])['CONSOLE'].transform('nunique')\n",
        "df['Unique_Publisher_Per_Console'] = df.groupby(['CONSOLE'])['PUBLISHER'].transform('nunique')"
      ],
      "execution_count": 19,
      "outputs": []
    },
    {
      "cell_type": "code",
      "metadata": {
        "id": "MxUXCRilx2vO",
        "colab_type": "code",
        "colab": {}
      },
      "source": [
        "df['Unique_Console_Per_Year'] = df.groupby(['YEAR'])['CONSOLE'].transform('nunique')\n",
        "df['Unique_Year_Per_Console'] = df.groupby(['CONSOLE'])['YEAR'].transform('nunique')"
      ],
      "execution_count": 21,
      "outputs": []
    },
    {
      "cell_type": "code",
      "metadata": {
        "id": "eygWlBWW0OWE",
        "colab_type": "code",
        "colab": {}
      },
      "source": [
        "df['Unique_Category_Per_Rating'] = df.groupby(['RATING'])['CATEGORY'].transform('nunique')\n",
        "df['Unique_Rating_Per_Category'] = df.groupby(['CATEGORY'])['RATING'].transform('nunique')"
      ],
      "execution_count": 23,
      "outputs": []
    },
    {
      "cell_type": "code",
      "metadata": {
        "id": "psHAr9q70rgj",
        "colab_type": "code",
        "colab": {}
      },
      "source": [
        "df['Unique_Publisher_Per_Rating'] = df.groupby(['RATING'])['PUBLISHER'].transform('nunique')\n",
        "df['Unique_Rating_Per_Publisher'] = df.groupby(['PUBLISHER'])['RATING'].transform('nunique')"
      ],
      "execution_count": 25,
      "outputs": []
    },
    {
      "cell_type": "code",
      "metadata": {
        "id": "42VPhLnhyYo5",
        "colab_type": "code",
        "colab": {}
      },
      "source": [
        "df['Std_Critic_Rating_Per_Console'] = df.groupby(['CONSOLE'])['CRITICS_POINTS'].transform('std')\n",
        "df['Std_Critic_Rating_Per_Category'] = df.groupby(['CATEGORY'])['CRITICS_POINTS'].transform('std')\n",
        "df['Std_Critic_Rating_Per_Publisher'] = df.groupby(['PUBLISHER'])['CRITICS_POINTS'].transform('std')\n",
        "df['Std_Critic_Rating_Per_Rating'] = df.groupby(['RATING'])['CRITICS_POINTS'].transform('std')\n",
        "df['Std_Critic_Rating_Per_Year'] = df.groupby(['YEAR'])['CRITICS_POINTS'].transform('std')"
      ],
      "execution_count": 27,
      "outputs": []
    },
    {
      "cell_type": "code",
      "metadata": {
        "id": "DprMWtjqzt84",
        "colab_type": "code",
        "colab": {}
      },
      "source": [
        "df['Std_User_Rating_Per_Console'] = df.groupby(['CONSOLE'])['USER_POINTS'].transform('std')\n",
        "df['Std_User_Rating_Per_Category'] = df.groupby(['CATEGORY'])['USER_POINTS'].transform('std')\n",
        "df['Std_User_Rating_Per_Publisher'] = df.groupby(['PUBLISHER'])['USER_POINTS'].transform('std')\n",
        "df['Std_User_Rating_Per_Rating'] = df.groupby(['RATING'])['USER_POINTS'].transform('std')\n",
        "df['Std_User_Rating_Per_Year'] = df.groupby(['YEAR'])['USER_POINTS'].transform('std')"
      ],
      "execution_count": 28,
      "outputs": []
    },
    {
      "cell_type": "code",
      "metadata": {
        "id": "Q7ZyIC8Q9H3-",
        "colab_type": "code",
        "colab": {}
      },
      "source": [
        "df['Std_Critic_Rating_Per_Console_Year'] = df.groupby(['CONSOLE','YEAR'])['CRITICS_POINTS'].transform('std')\n",
        "df['Std_Critic_Rating_Per_Category_Year'] = df.groupby(['CATEGORY','YEAR'])['CRITICS_POINTS'].transform('std')\n",
        "df['Std_Critic_Rating_Per_Publisher_Year'] = df.groupby(['PUBLISHER','YEAR'])['CRITICS_POINTS'].transform('std')"
      ],
      "execution_count": 29,
      "outputs": []
    },
    {
      "cell_type": "code",
      "metadata": {
        "id": "sGF8vTH59ZVd",
        "colab_type": "code",
        "colab": {}
      },
      "source": [
        "df['Std_User_Rating_Per_Console_Year'] = df.groupby(['CONSOLE','YEAR'])['USER_POINTS'].transform('std')\n",
        "df['Std_User_Rating_Per_Category_Year'] = df.groupby(['CATEGORY','YEAR'])['USER_POINTS'].transform('std')\n",
        "df['Std_User_Rating_Per_Publisher_Year'] = df.groupby(['PUBLISHER','YEAR'])['USER_POINTS'].transform('std')"
      ],
      "execution_count": 30,
      "outputs": []
    },
    {
      "cell_type": "code",
      "metadata": {
        "id": "lyuKXOGW-BJB",
        "colab_type": "code",
        "colab": {}
      },
      "source": [
        "df['Std_Critic_Rating_Per_Console_Category'] = df.groupby(['CONSOLE','CATEGORY'])['CRITICS_POINTS'].transform('std')\n",
        "df['Std_Critic_Rating_Per_Category_Publisher'] = df.groupby(['CATEGORY','PUBLISHER'])['CRITICS_POINTS'].transform('std')\n",
        "df['Std_Critic_Rating_Per_Publisher_Console'] = df.groupby(['PUBLISHER','CONSOLE'])['CRITICS_POINTS'].transform('std')"
      ],
      "execution_count": 31,
      "outputs": []
    },
    {
      "cell_type": "code",
      "metadata": {
        "id": "-XYNNhZu-fZ8",
        "colab_type": "code",
        "colab": {}
      },
      "source": [
        "df['Std_User_Rating_Per_Console_Category'] = df.groupby(['CONSOLE','CATEGORY'])['USER_POINTS'].transform('std')\n",
        "df['Std_User_Rating_Per_Category_Publisher'] = df.groupby(['CATEGORY','PUBLISHER'])['USER_POINTS'].transform('std')\n",
        "df['Std_User_Rating_Per_Publisher_Console'] = df.groupby(['PUBLISHER','CONSOLE'])['USER_POINTS'].transform('std')"
      ],
      "execution_count": 32,
      "outputs": []
    },
    {
      "cell_type": "code",
      "metadata": {
        "id": "eGItP_2Z0Bx_",
        "colab_type": "code",
        "colab": {
          "base_uri": "https://localhost:8080/",
          "height": 309
        },
        "outputId": "2418b568-b2ff-4441-c4ff-c00b6d1c96fb"
      },
      "source": [
        "print(df.shape)\n",
        "df.head()"
      ],
      "execution_count": 35,
      "outputs": [
        {
          "output_type": "stream",
          "text": [
            "(5008, 46)\n"
          ],
          "name": "stdout"
        },
        {
          "output_type": "execute_result",
          "data": {
            "text/html": [
              "<div>\n",
              "<style scoped>\n",
              "    .dataframe tbody tr th:only-of-type {\n",
              "        vertical-align: middle;\n",
              "    }\n",
              "\n",
              "    .dataframe tbody tr th {\n",
              "        vertical-align: top;\n",
              "    }\n",
              "\n",
              "    .dataframe thead th {\n",
              "        text-align: right;\n",
              "    }\n",
              "</style>\n",
              "<table border=\"1\" class=\"dataframe\">\n",
              "  <thead>\n",
              "    <tr style=\"text-align: right;\">\n",
              "      <th></th>\n",
              "      <th>ID</th>\n",
              "      <th>CONSOLE</th>\n",
              "      <th>YEAR</th>\n",
              "      <th>CATEGORY</th>\n",
              "      <th>PUBLISHER</th>\n",
              "      <th>RATING</th>\n",
              "      <th>CRITICS_POINTS</th>\n",
              "      <th>USER_POINTS</th>\n",
              "      <th>SalesInMillions</th>\n",
              "      <th>Unique_Game_Per_Console</th>\n",
              "      <th>Unique_Game_Per_Category</th>\n",
              "      <th>Unique_Game_Per_Publisher</th>\n",
              "      <th>Unique_Game_Per_Rating</th>\n",
              "      <th>Unique_Game_Per_Year</th>\n",
              "      <th>Unique_Category_Per_Publisher</th>\n",
              "      <th>Unique_Publisher_Per_Category</th>\n",
              "      <th>Unique_Console_Per_Publisher</th>\n",
              "      <th>Unique_Publisher_Per_Console</th>\n",
              "      <th>Unique_Console_Per_Year</th>\n",
              "      <th>Unique_Year_Per_Console</th>\n",
              "      <th>Unique_Category_Per_Rating</th>\n",
              "      <th>Unique_Rating_Per_Category</th>\n",
              "      <th>Unique_Publisher_Per_Rating</th>\n",
              "      <th>Unique_Rating_Per_Publisher</th>\n",
              "      <th>Std_Critic_Rating_Per_Console</th>\n",
              "      <th>Std_Critic_Rating_Per_Category</th>\n",
              "      <th>Std_Critic_Rating_Per_Publisher</th>\n",
              "      <th>Std_Critic_Rating_Per_Rating</th>\n",
              "      <th>Std_Critic_Rating_Per_Year</th>\n",
              "      <th>Std_User_Rating_Per_Console</th>\n",
              "      <th>Std_User_Rating_Per_Category</th>\n",
              "      <th>Std_User_Rating_Per_Publisher</th>\n",
              "      <th>Std_User_Rating_Per_Rating</th>\n",
              "      <th>Std_User_Rating_Per_Year</th>\n",
              "      <th>Std_Critic_Rating_Per_Console_Year</th>\n",
              "      <th>Std_Critic_Rating_Per_Category_Year</th>\n",
              "      <th>Std_Critic_Rating_Per_Publisher_Year</th>\n",
              "      <th>Std_User_Rating_Per_Console_Year</th>\n",
              "      <th>Std_User_Rating_Per_Category_Year</th>\n",
              "      <th>Std_User_Rating_Per_Publisher_Year</th>\n",
              "      <th>Std_Critic_Rating_Per_Console_Category</th>\n",
              "      <th>Std_Critic_Rating_Per_Category_Publisher</th>\n",
              "      <th>Std_Critic_Rating_Per_Publisher_Console</th>\n",
              "      <th>Std_User_Rating_Per_Console_Category</th>\n",
              "      <th>Std_User_Rating_Per_Category_Publisher</th>\n",
              "      <th>Std_User_Rating_Per_Publisher_Console</th>\n",
              "    </tr>\n",
              "  </thead>\n",
              "  <tbody>\n",
              "    <tr>\n",
              "      <th>0</th>\n",
              "      <td>2860</td>\n",
              "      <td>ds</td>\n",
              "      <td>2008</td>\n",
              "      <td>role-playing</td>\n",
              "      <td>Nintendo</td>\n",
              "      <td>E</td>\n",
              "      <td>2.833333</td>\n",
              "      <td>0.303704</td>\n",
              "      <td>1.022184</td>\n",
              "      <td>339</td>\n",
              "      <td>438</td>\n",
              "      <td>248</td>\n",
              "      <td>1133</td>\n",
              "      <td>390</td>\n",
              "      <td>12</td>\n",
              "      <td>86</td>\n",
              "      <td>6</td>\n",
              "      <td>55</td>\n",
              "      <td>10</td>\n",
              "      <td>11</td>\n",
              "      <td>12</td>\n",
              "      <td>4</td>\n",
              "      <td>110</td>\n",
              "      <td>4</td>\n",
              "      <td>3.428850</td>\n",
              "      <td>2.427566</td>\n",
              "      <td>2.222191</td>\n",
              "      <td>3.464021</td>\n",
              "      <td>2.838244</td>\n",
              "      <td>0.507285</td>\n",
              "      <td>0.344126</td>\n",
              "      <td>0.293211</td>\n",
              "      <td>0.498043</td>\n",
              "      <td>0.437125</td>\n",
              "      <td>2.845748</td>\n",
              "      <td>1.749064</td>\n",
              "      <td>0.878039</td>\n",
              "      <td>0.502985</td>\n",
              "      <td>0.480238</td>\n",
              "      <td>0.218352</td>\n",
              "      <td>2.051346</td>\n",
              "      <td>1.281589</td>\n",
              "      <td>3.494392</td>\n",
              "      <td>0.340830</td>\n",
              "      <td>0.131978</td>\n",
              "      <td>0.303254</td>\n",
              "    </tr>\n",
              "    <tr>\n",
              "      <th>1</th>\n",
              "      <td>731</td>\n",
              "      <td>wii</td>\n",
              "      <td>2012</td>\n",
              "      <td>simulation</td>\n",
              "      <td>Konami Digital Entertainment</td>\n",
              "      <td>E10+</td>\n",
              "      <td>13.200000</td>\n",
              "      <td>1.640000</td>\n",
              "      <td>0.194785</td>\n",
              "      <td>366</td>\n",
              "      <td>175</td>\n",
              "      <td>134</td>\n",
              "      <td>467</td>\n",
              "      <td>276</td>\n",
              "      <td>12</td>\n",
              "      <td>44</td>\n",
              "      <td>14</td>\n",
              "      <td>46</td>\n",
              "      <td>9</td>\n",
              "      <td>10</td>\n",
              "      <td>12</td>\n",
              "      <td>4</td>\n",
              "      <td>81</td>\n",
              "      <td>4</td>\n",
              "      <td>3.280556</td>\n",
              "      <td>3.442333</td>\n",
              "      <td>3.621253</td>\n",
              "      <td>3.748816</td>\n",
              "      <td>3.401621</td>\n",
              "      <td>0.462767</td>\n",
              "      <td>0.437370</td>\n",
              "      <td>0.531402</td>\n",
              "      <td>0.462838</td>\n",
              "      <td>0.379547</td>\n",
              "      <td>3.164500</td>\n",
              "      <td>4.149524</td>\n",
              "      <td>4.289196</td>\n",
              "      <td>0.488282</td>\n",
              "      <td>0.666464</td>\n",
              "      <td>0.582456</td>\n",
              "      <td>2.745501</td>\n",
              "      <td>3.313941</td>\n",
              "      <td>3.511841</td>\n",
              "      <td>0.486040</td>\n",
              "      <td>0.464907</td>\n",
              "      <td>0.494502</td>\n",
              "    </tr>\n",
              "    <tr>\n",
              "      <th>2</th>\n",
              "      <td>495</td>\n",
              "      <td>pc</td>\n",
              "      <td>2019</td>\n",
              "      <td>shooter</td>\n",
              "      <td>Activision</td>\n",
              "      <td>M</td>\n",
              "      <td>4.562500</td>\n",
              "      <td>0.006410</td>\n",
              "      <td>0.428140</td>\n",
              "      <td>461</td>\n",
              "      <td>409</td>\n",
              "      <td>201</td>\n",
              "      <td>687</td>\n",
              "      <td>37</td>\n",
              "      <td>11</td>\n",
              "      <td>76</td>\n",
              "      <td>16</td>\n",
              "      <td>84</td>\n",
              "      <td>6</td>\n",
              "      <td>23</td>\n",
              "      <td>11</td>\n",
              "      <td>4</td>\n",
              "      <td>91</td>\n",
              "      <td>4</td>\n",
              "      <td>3.222330</td>\n",
              "      <td>2.308502</td>\n",
              "      <td>3.643554</td>\n",
              "      <td>2.193401</td>\n",
              "      <td>3.938252</td>\n",
              "      <td>0.231486</td>\n",
              "      <td>0.379063</td>\n",
              "      <td>0.474123</td>\n",
              "      <td>0.294694</td>\n",
              "      <td>0.211587</td>\n",
              "      <td>8.484310</td>\n",
              "      <td>1.261666</td>\n",
              "      <td>4.331135</td>\n",
              "      <td>0.277790</td>\n",
              "      <td>0.061336</td>\n",
              "      <td>0.094018</td>\n",
              "      <td>2.013863</td>\n",
              "      <td>2.612843</td>\n",
              "      <td>2.458920</td>\n",
              "      <td>0.044420</td>\n",
              "      <td>0.162991</td>\n",
              "      <td>0.402233</td>\n",
              "    </tr>\n",
              "    <tr>\n",
              "      <th>3</th>\n",
              "      <td>2641</td>\n",
              "      <td>ps2</td>\n",
              "      <td>2002</td>\n",
              "      <td>sports</td>\n",
              "      <td>Electronic Arts</td>\n",
              "      <td>E</td>\n",
              "      <td>4.181818</td>\n",
              "      <td>0.326923</td>\n",
              "      <td>0.868765</td>\n",
              "      <td>843</td>\n",
              "      <td>425</td>\n",
              "      <td>362</td>\n",
              "      <td>1133</td>\n",
              "      <td>134</td>\n",
              "      <td>12</td>\n",
              "      <td>48</td>\n",
              "      <td>16</td>\n",
              "      <td>75</td>\n",
              "      <td>7</td>\n",
              "      <td>12</td>\n",
              "      <td>12</td>\n",
              "      <td>4</td>\n",
              "      <td>110</td>\n",
              "      <td>4</td>\n",
              "      <td>2.589157</td>\n",
              "      <td>3.239163</td>\n",
              "      <td>2.782299</td>\n",
              "      <td>3.464021</td>\n",
              "      <td>3.053653</td>\n",
              "      <td>0.440794</td>\n",
              "      <td>0.503238</td>\n",
              "      <td>0.420955</td>\n",
              "      <td>0.498043</td>\n",
              "      <td>0.523715</td>\n",
              "      <td>1.475337</td>\n",
              "      <td>2.485802</td>\n",
              "      <td>2.028582</td>\n",
              "      <td>0.453711</td>\n",
              "      <td>0.549350</td>\n",
              "      <td>0.469249</td>\n",
              "      <td>2.676886</td>\n",
              "      <td>2.949846</td>\n",
              "      <td>2.095279</td>\n",
              "      <td>0.460366</td>\n",
              "      <td>0.478359</td>\n",
              "      <td>0.293670</td>\n",
              "    </tr>\n",
              "    <tr>\n",
              "      <th>4</th>\n",
              "      <td>811</td>\n",
              "      <td>ps3</td>\n",
              "      <td>2013</td>\n",
              "      <td>action</td>\n",
              "      <td>Activision</td>\n",
              "      <td>M</td>\n",
              "      <td>2.259259</td>\n",
              "      <td>0.032579</td>\n",
              "      <td>0.079431</td>\n",
              "      <td>590</td>\n",
              "      <td>728</td>\n",
              "      <td>201</td>\n",
              "      <td>687</td>\n",
              "      <td>244</td>\n",
              "      <td>11</td>\n",
              "      <td>85</td>\n",
              "      <td>16</td>\n",
              "      <td>54</td>\n",
              "      <td>11</td>\n",
              "      <td>12</td>\n",
              "      <td>11</td>\n",
              "      <td>5</td>\n",
              "      <td>91</td>\n",
              "      <td>4</td>\n",
              "      <td>2.854255</td>\n",
              "      <td>3.340823</td>\n",
              "      <td>3.643554</td>\n",
              "      <td>2.193401</td>\n",
              "      <td>3.409524</td>\n",
              "      <td>0.307493</td>\n",
              "      <td>0.419673</td>\n",
              "      <td>0.474123</td>\n",
              "      <td>0.294694</td>\n",
              "      <td>0.348499</td>\n",
              "      <td>3.203189</td>\n",
              "      <td>2.924903</td>\n",
              "      <td>5.026012</td>\n",
              "      <td>0.321651</td>\n",
              "      <td>0.274689</td>\n",
              "      <td>0.620986</td>\n",
              "      <td>2.120312</td>\n",
              "      <td>3.823606</td>\n",
              "      <td>3.296110</td>\n",
              "      <td>0.290348</td>\n",
              "      <td>0.498645</td>\n",
              "      <td>0.387038</td>\n",
              "    </tr>\n",
              "  </tbody>\n",
              "</table>\n",
              "</div>"
            ],
            "text/plain": [
              "     ID  ... Std_User_Rating_Per_Publisher_Console\n",
              "0  2860  ...                              0.303254\n",
              "1   731  ...                              0.494502\n",
              "2   495  ...                              0.402233\n",
              "3  2641  ...                              0.293670\n",
              "4   811  ...                              0.387038\n",
              "\n",
              "[5 rows x 46 columns]"
            ]
          },
          "metadata": {
            "tags": []
          },
          "execution_count": 35
        }
      ]
    },
    {
      "cell_type": "markdown",
      "metadata": {
        "id": "BJSRu1zdW2fJ",
        "colab_type": "text"
      },
      "source": [
        "## Prepare Data For Model Training"
      ]
    },
    {
      "cell_type": "code",
      "metadata": {
        "id": "lI--kP8e1T_q",
        "colab_type": "code",
        "colab": {}
      },
      "source": [
        "le = LabelEncoder()\n",
        "df['CONSOLE'] = le.fit_transform(df['CONSOLE'])\n",
        "df['CATEGORY'] = le.fit_transform(df['CATEGORY'])\n",
        "df['PUBLISHER'] = le.fit_transform(df['PUBLISHER'])\n",
        "df['RATING'] = le.fit_transform(df['RATING'])"
      ],
      "execution_count": 36,
      "outputs": []
    },
    {
      "cell_type": "code",
      "metadata": {
        "id": "gXKJJxCQ3dxn",
        "colab_type": "code",
        "colab": {}
      },
      "source": [
        "train_data = df[:train.shape[0]]\n",
        "test_data = df[train.shape[0]:]\n",
        "\n",
        "y = train_data[TARGET_COL]\n",
        "X = train_data.drop([ID_COL,TARGET_COL],axis=1)"
      ],
      "execution_count": 37,
      "outputs": []
    },
    {
      "cell_type": "code",
      "metadata": {
        "id": "xMKsWNtm48HT",
        "colab_type": "code",
        "colab": {}
      },
      "source": [
        "X_train,X_test,y_train,y_test=train_test_split(X,y,test_size=0.2,random_state=42)"
      ],
      "execution_count": 38,
      "outputs": []
    },
    {
      "cell_type": "markdown",
      "metadata": {
        "id": "24beoaGo4x0B",
        "colab_type": "text"
      },
      "source": [
        "##LGBM"
      ]
    },
    {
      "cell_type": "code",
      "metadata": {
        "id": "bVygRk_64XPj",
        "colab_type": "code",
        "colab": {}
      },
      "source": [
        "lgb_fit_params={\"early_stopping_rounds\":200, \n",
        "            \"eval_metric\" : 'rmse', \n",
        "            \"eval_set\" : [(X_test,y_test)],\n",
        "            'eval_names': ['valid'],\n",
        "            'verbose':100\n",
        "           }\n",
        "\n",
        "lgb_params = {'boosting_type': 'gbdt',\n",
        " 'objective': 'regression',\n",
        " 'metric': 'rmse',\n",
        " 'learning_rate': 0.001}"
      ],
      "execution_count": 39,
      "outputs": []
    },
    {
      "cell_type": "code",
      "metadata": {
        "id": "UXuzzMmh41Hw",
        "colab_type": "code",
        "colab": {
          "base_uri": "https://localhost:8080/",
          "height": 527
        },
        "outputId": "abce77e3-d3dd-478a-bc76-472f4654fb88"
      },
      "source": [
        "clf_lgb = LGBMRegressor(n_estimators=5000, **lgb_params, random_state=42, n_jobs=-1)\n",
        "clf_lgb.fit(X_train, y_train, **lgb_fit_params)\n",
        "clf_lgb.best_iteration_"
      ],
      "execution_count": 40,
      "outputs": [
        {
          "output_type": "stream",
          "text": [
            "Training until validation scores don't improve for 200 rounds.\n",
            "[100]\tvalid's rmse: 0.476551\n",
            "[200]\tvalid's rmse: 0.471219\n",
            "[300]\tvalid's rmse: 0.466548\n",
            "[400]\tvalid's rmse: 0.462475\n",
            "[500]\tvalid's rmse: 0.459373\n",
            "[600]\tvalid's rmse: 0.456784\n",
            "[700]\tvalid's rmse: 0.454358\n",
            "[800]\tvalid's rmse: 0.452151\n",
            "[900]\tvalid's rmse: 0.450176\n",
            "[1000]\tvalid's rmse: 0.448841\n",
            "[1100]\tvalid's rmse: 0.447721\n",
            "[1200]\tvalid's rmse: 0.446878\n",
            "[1300]\tvalid's rmse: 0.446515\n",
            "[1400]\tvalid's rmse: 0.446067\n",
            "[1500]\tvalid's rmse: 0.445418\n",
            "[1600]\tvalid's rmse: 0.444935\n",
            "[1700]\tvalid's rmse: 0.444531\n",
            "[1800]\tvalid's rmse: 0.444334\n",
            "[1900]\tvalid's rmse: 0.444179\n",
            "[2000]\tvalid's rmse: 0.443963\n",
            "[2100]\tvalid's rmse: 0.443706\n",
            "[2200]\tvalid's rmse: 0.443398\n",
            "[2300]\tvalid's rmse: 0.44345\n",
            "[2400]\tvalid's rmse: 0.443312\n",
            "[2500]\tvalid's rmse: 0.443277\n",
            "[2600]\tvalid's rmse: 0.44332\n",
            "Early stopping, best iteration is:\n",
            "[2460]\tvalid's rmse: 0.443259\n"
          ],
          "name": "stdout"
        },
        {
          "output_type": "execute_result",
          "data": {
            "text/plain": [
              "2460"
            ]
          },
          "metadata": {
            "tags": []
          },
          "execution_count": 40
        }
      ]
    },
    {
      "cell_type": "code",
      "metadata": {
        "id": "7EmTkpkv5Vrq",
        "colab_type": "code",
        "colab": {}
      },
      "source": [
        "clf_lgb=LGBMRegressor(n_estimators=int(clf_lgb.best_iteration_*1), **lgb_params)\n",
        "lgb_model=clf_lgb.fit(X, y)"
      ],
      "execution_count": 41,
      "outputs": []
    },
    {
      "cell_type": "code",
      "metadata": {
        "id": "hpTfLFfO5oxL",
        "colab_type": "code",
        "colab": {
          "base_uri": "https://localhost:8080/",
          "height": 51
        },
        "outputId": "af43a6ee-851e-4f93-ef7d-f6ee8e9d5fe1"
      },
      "source": [
        "score=cross_val_score(X=X,y=y,estimator=clf_lgb,scoring='neg_root_mean_squared_error',cv=5)\n",
        "print(\"Scores : \",score)\n",
        "print(\"Mean score : \",np.mean(score))"
      ],
      "execution_count": 42,
      "outputs": [
        {
          "output_type": "stream",
          "text": [
            "Scores :  [-0.43089888 -0.47521862 -0.44335668 -0.43697875 -0.44959454]\n",
            "Mean score :  -0.44720949641167557\n"
          ],
          "name": "stdout"
        }
      ]
    },
    {
      "cell_type": "code",
      "metadata": {
        "id": "Chp267pH5yOL",
        "colab_type": "code",
        "colab": {
          "base_uri": "https://localhost:8080/",
          "height": 1000
        },
        "outputId": "268de585-b376-46e2-8dc2-e569b37e4ed3"
      },
      "source": [
        "pd.DataFrame(list(zip(X.columns,clf_lgb.feature_importances_)))"
      ],
      "execution_count": 43,
      "outputs": [
        {
          "output_type": "execute_result",
          "data": {
            "text/html": [
              "<div>\n",
              "<style scoped>\n",
              "    .dataframe tbody tr th:only-of-type {\n",
              "        vertical-align: middle;\n",
              "    }\n",
              "\n",
              "    .dataframe tbody tr th {\n",
              "        vertical-align: top;\n",
              "    }\n",
              "\n",
              "    .dataframe thead th {\n",
              "        text-align: right;\n",
              "    }\n",
              "</style>\n",
              "<table border=\"1\" class=\"dataframe\">\n",
              "  <thead>\n",
              "    <tr style=\"text-align: right;\">\n",
              "      <th></th>\n",
              "      <th>0</th>\n",
              "      <th>1</th>\n",
              "    </tr>\n",
              "  </thead>\n",
              "  <tbody>\n",
              "    <tr>\n",
              "      <th>0</th>\n",
              "      <td>CONSOLE</td>\n",
              "      <td>980</td>\n",
              "    </tr>\n",
              "    <tr>\n",
              "      <th>1</th>\n",
              "      <td>YEAR</td>\n",
              "      <td>1854</td>\n",
              "    </tr>\n",
              "    <tr>\n",
              "      <th>2</th>\n",
              "      <td>CATEGORY</td>\n",
              "      <td>895</td>\n",
              "    </tr>\n",
              "    <tr>\n",
              "      <th>3</th>\n",
              "      <td>PUBLISHER</td>\n",
              "      <td>1166</td>\n",
              "    </tr>\n",
              "    <tr>\n",
              "      <th>4</th>\n",
              "      <td>RATING</td>\n",
              "      <td>2288</td>\n",
              "    </tr>\n",
              "    <tr>\n",
              "      <th>5</th>\n",
              "      <td>CRITICS_POINTS</td>\n",
              "      <td>4835</td>\n",
              "    </tr>\n",
              "    <tr>\n",
              "      <th>6</th>\n",
              "      <td>USER_POINTS</td>\n",
              "      <td>11069</td>\n",
              "    </tr>\n",
              "    <tr>\n",
              "      <th>7</th>\n",
              "      <td>Unique_Game_Per_Console</td>\n",
              "      <td>1102</td>\n",
              "    </tr>\n",
              "    <tr>\n",
              "      <th>8</th>\n",
              "      <td>Unique_Game_Per_Category</td>\n",
              "      <td>1000</td>\n",
              "    </tr>\n",
              "    <tr>\n",
              "      <th>9</th>\n",
              "      <td>Unique_Game_Per_Publisher</td>\n",
              "      <td>2348</td>\n",
              "    </tr>\n",
              "    <tr>\n",
              "      <th>10</th>\n",
              "      <td>Unique_Game_Per_Rating</td>\n",
              "      <td>183</td>\n",
              "    </tr>\n",
              "    <tr>\n",
              "      <th>11</th>\n",
              "      <td>Unique_Game_Per_Year</td>\n",
              "      <td>574</td>\n",
              "    </tr>\n",
              "    <tr>\n",
              "      <th>12</th>\n",
              "      <td>Unique_Category_Per_Publisher</td>\n",
              "      <td>612</td>\n",
              "    </tr>\n",
              "    <tr>\n",
              "      <th>13</th>\n",
              "      <td>Unique_Publisher_Per_Category</td>\n",
              "      <td>413</td>\n",
              "    </tr>\n",
              "    <tr>\n",
              "      <th>14</th>\n",
              "      <td>Unique_Console_Per_Publisher</td>\n",
              "      <td>192</td>\n",
              "    </tr>\n",
              "    <tr>\n",
              "      <th>15</th>\n",
              "      <td>Unique_Publisher_Per_Console</td>\n",
              "      <td>1485</td>\n",
              "    </tr>\n",
              "    <tr>\n",
              "      <th>16</th>\n",
              "      <td>Unique_Console_Per_Year</td>\n",
              "      <td>528</td>\n",
              "    </tr>\n",
              "    <tr>\n",
              "      <th>17</th>\n",
              "      <td>Unique_Year_Per_Console</td>\n",
              "      <td>23</td>\n",
              "    </tr>\n",
              "    <tr>\n",
              "      <th>18</th>\n",
              "      <td>Unique_Category_Per_Rating</td>\n",
              "      <td>98</td>\n",
              "    </tr>\n",
              "    <tr>\n",
              "      <th>19</th>\n",
              "      <td>Unique_Rating_Per_Category</td>\n",
              "      <td>502</td>\n",
              "    </tr>\n",
              "    <tr>\n",
              "      <th>20</th>\n",
              "      <td>Unique_Publisher_Per_Rating</td>\n",
              "      <td>0</td>\n",
              "    </tr>\n",
              "    <tr>\n",
              "      <th>21</th>\n",
              "      <td>Unique_Rating_Per_Publisher</td>\n",
              "      <td>17</td>\n",
              "    </tr>\n",
              "    <tr>\n",
              "      <th>22</th>\n",
              "      <td>Std_Critic_Rating_Per_Console</td>\n",
              "      <td>390</td>\n",
              "    </tr>\n",
              "    <tr>\n",
              "      <th>23</th>\n",
              "      <td>Std_Critic_Rating_Per_Category</td>\n",
              "      <td>690</td>\n",
              "    </tr>\n",
              "    <tr>\n",
              "      <th>24</th>\n",
              "      <td>Std_Critic_Rating_Per_Publisher</td>\n",
              "      <td>1519</td>\n",
              "    </tr>\n",
              "    <tr>\n",
              "      <th>25</th>\n",
              "      <td>Std_Critic_Rating_Per_Rating</td>\n",
              "      <td>0</td>\n",
              "    </tr>\n",
              "    <tr>\n",
              "      <th>26</th>\n",
              "      <td>Std_Critic_Rating_Per_Year</td>\n",
              "      <td>674</td>\n",
              "    </tr>\n",
              "    <tr>\n",
              "      <th>27</th>\n",
              "      <td>Std_User_Rating_Per_Console</td>\n",
              "      <td>1754</td>\n",
              "    </tr>\n",
              "    <tr>\n",
              "      <th>28</th>\n",
              "      <td>Std_User_Rating_Per_Category</td>\n",
              "      <td>670</td>\n",
              "    </tr>\n",
              "    <tr>\n",
              "      <th>29</th>\n",
              "      <td>Std_User_Rating_Per_Publisher</td>\n",
              "      <td>908</td>\n",
              "    </tr>\n",
              "    <tr>\n",
              "      <th>30</th>\n",
              "      <td>Std_User_Rating_Per_Rating</td>\n",
              "      <td>0</td>\n",
              "    </tr>\n",
              "    <tr>\n",
              "      <th>31</th>\n",
              "      <td>Std_User_Rating_Per_Year</td>\n",
              "      <td>440</td>\n",
              "    </tr>\n",
              "    <tr>\n",
              "      <th>32</th>\n",
              "      <td>Std_Critic_Rating_Per_Console_Year</td>\n",
              "      <td>2390</td>\n",
              "    </tr>\n",
              "    <tr>\n",
              "      <th>33</th>\n",
              "      <td>Std_Critic_Rating_Per_Category_Year</td>\n",
              "      <td>2620</td>\n",
              "    </tr>\n",
              "    <tr>\n",
              "      <th>34</th>\n",
              "      <td>Std_Critic_Rating_Per_Publisher_Year</td>\n",
              "      <td>3326</td>\n",
              "    </tr>\n",
              "    <tr>\n",
              "      <th>35</th>\n",
              "      <td>Std_User_Rating_Per_Console_Year</td>\n",
              "      <td>3252</td>\n",
              "    </tr>\n",
              "    <tr>\n",
              "      <th>36</th>\n",
              "      <td>Std_User_Rating_Per_Category_Year</td>\n",
              "      <td>3055</td>\n",
              "    </tr>\n",
              "    <tr>\n",
              "      <th>37</th>\n",
              "      <td>Std_User_Rating_Per_Publisher_Year</td>\n",
              "      <td>2537</td>\n",
              "    </tr>\n",
              "    <tr>\n",
              "      <th>38</th>\n",
              "      <td>Std_Critic_Rating_Per_Console_Category</td>\n",
              "      <td>2478</td>\n",
              "    </tr>\n",
              "    <tr>\n",
              "      <th>39</th>\n",
              "      <td>Std_Critic_Rating_Per_Category_Publisher</td>\n",
              "      <td>4178</td>\n",
              "    </tr>\n",
              "    <tr>\n",
              "      <th>40</th>\n",
              "      <td>Std_Critic_Rating_Per_Publisher_Console</td>\n",
              "      <td>3231</td>\n",
              "    </tr>\n",
              "    <tr>\n",
              "      <th>41</th>\n",
              "      <td>Std_User_Rating_Per_Console_Category</td>\n",
              "      <td>2430</td>\n",
              "    </tr>\n",
              "    <tr>\n",
              "      <th>42</th>\n",
              "      <td>Std_User_Rating_Per_Category_Publisher</td>\n",
              "      <td>2896</td>\n",
              "    </tr>\n",
              "    <tr>\n",
              "      <th>43</th>\n",
              "      <td>Std_User_Rating_Per_Publisher_Console</td>\n",
              "      <td>2198</td>\n",
              "    </tr>\n",
              "  </tbody>\n",
              "</table>\n",
              "</div>"
            ],
            "text/plain": [
              "                                           0      1\n",
              "0                                    CONSOLE    980\n",
              "1                                       YEAR   1854\n",
              "2                                   CATEGORY    895\n",
              "3                                  PUBLISHER   1166\n",
              "4                                     RATING   2288\n",
              "5                             CRITICS_POINTS   4835\n",
              "6                                USER_POINTS  11069\n",
              "7                    Unique_Game_Per_Console   1102\n",
              "8                   Unique_Game_Per_Category   1000\n",
              "9                  Unique_Game_Per_Publisher   2348\n",
              "10                    Unique_Game_Per_Rating    183\n",
              "11                      Unique_Game_Per_Year    574\n",
              "12             Unique_Category_Per_Publisher    612\n",
              "13             Unique_Publisher_Per_Category    413\n",
              "14              Unique_Console_Per_Publisher    192\n",
              "15              Unique_Publisher_Per_Console   1485\n",
              "16                   Unique_Console_Per_Year    528\n",
              "17                   Unique_Year_Per_Console     23\n",
              "18                Unique_Category_Per_Rating     98\n",
              "19                Unique_Rating_Per_Category    502\n",
              "20               Unique_Publisher_Per_Rating      0\n",
              "21               Unique_Rating_Per_Publisher     17\n",
              "22             Std_Critic_Rating_Per_Console    390\n",
              "23            Std_Critic_Rating_Per_Category    690\n",
              "24           Std_Critic_Rating_Per_Publisher   1519\n",
              "25              Std_Critic_Rating_Per_Rating      0\n",
              "26                Std_Critic_Rating_Per_Year    674\n",
              "27               Std_User_Rating_Per_Console   1754\n",
              "28              Std_User_Rating_Per_Category    670\n",
              "29             Std_User_Rating_Per_Publisher    908\n",
              "30                Std_User_Rating_Per_Rating      0\n",
              "31                  Std_User_Rating_Per_Year    440\n",
              "32        Std_Critic_Rating_Per_Console_Year   2390\n",
              "33       Std_Critic_Rating_Per_Category_Year   2620\n",
              "34      Std_Critic_Rating_Per_Publisher_Year   3326\n",
              "35          Std_User_Rating_Per_Console_Year   3252\n",
              "36         Std_User_Rating_Per_Category_Year   3055\n",
              "37        Std_User_Rating_Per_Publisher_Year   2537\n",
              "38    Std_Critic_Rating_Per_Console_Category   2478\n",
              "39  Std_Critic_Rating_Per_Category_Publisher   4178\n",
              "40   Std_Critic_Rating_Per_Publisher_Console   3231\n",
              "41      Std_User_Rating_Per_Console_Category   2430\n",
              "42    Std_User_Rating_Per_Category_Publisher   2896\n",
              "43     Std_User_Rating_Per_Publisher_Console   2198"
            ]
          },
          "metadata": {
            "tags": []
          },
          "execution_count": 43
        }
      ]
    },
    {
      "cell_type": "code",
      "metadata": {
        "id": "qfQzLjgUPjn-",
        "colab_type": "code",
        "colab": {}
      },
      "source": [
        "lgbm_preds=lgb_model.predict(test_data.drop([ID_COL,TARGET_COL],axis=1))\n",
        "lgbm_preds=np.expm1(lgbm_preds)"
      ],
      "execution_count": 44,
      "outputs": []
    },
    {
      "cell_type": "markdown",
      "metadata": {
        "id": "gnBqV2slF-Aw",
        "colab_type": "text"
      },
      "source": [
        "##LGBM KFOLD"
      ]
    },
    {
      "cell_type": "code",
      "metadata": {
        "id": "gOPR9lI-F8_F",
        "colab_type": "code",
        "colab": {}
      },
      "source": [
        "# errcb2=[]\n",
        "# y_pred_totcb2=[]\n",
        "\n",
        "# fold=KFold(n_splits=20)#15#5#10\n",
        "# i=1\n",
        "# epoch = 1\n",
        "# for train_index, test_index in fold.split(X,y):\n",
        "#     print(\"Epoch : \",epoch)\n",
        "#     X_train, X_test = X.iloc[train_index], X.iloc[test_index]\n",
        "#     y_train, y_test = y.iloc[train_index], y.iloc[test_index]\n",
        "#     m2  = LGBMRegressor(boosting_type='gbdt', class_weight=None, colsample_bytree=0.8,\n",
        "#               importance_type='split', learning_rate=0.01, max_depth=-1,\n",
        "#               min_child_samples=20, min_child_weight=100, min_split_gain=0.0,\n",
        "#               n_estimators=5000, n_jobs=-1, num_leaves=127,\n",
        "#               random_state=None, reg_alpha=0.5, reg_lamda=0.5,silent=True)\n",
        "#     m2.fit(X_train,y_train,eval_set=[(X_train,y_train),(X_test, y_test)], early_stopping_rounds=200,verbose=100,)#erly100\n",
        "#     preds=m2.predict(X_test)\n",
        "#     print(\"err: \",np.sqrt(mean_squared_error(y_test,preds)))\n",
        "#     errcb2.append(np.sqrt(mean_squared_error(y_test,preds)))\n",
        "#     p2 = m2.predict(test_data.drop([ID_COL,TARGET_COL],axis = 1))\n",
        "#     p2 = np.expm1(p2)\n",
        "#     y_pred_totcb2.append(p2)\n",
        "#     epoch+=1\n",
        "# np.mean(errcb2)"
      ],
      "execution_count": 45,
      "outputs": []
    },
    {
      "cell_type": "markdown",
      "metadata": {
        "id": "iBtk4DsMO-sX",
        "colab_type": "text"
      },
      "source": [
        "##XGBOOST"
      ]
    },
    {
      "cell_type": "code",
      "metadata": {
        "id": "C1evvIgCPoDq",
        "colab_type": "code",
        "colab": {
          "base_uri": "https://localhost:8080/",
          "height": 476
        },
        "outputId": "154984ed-5f84-4618-a8c0-b38431fbe02c"
      },
      "source": [
        "xgb = XGBRegressor(\n",
        " learning_rate =0.008,\n",
        " n_estimators=10000,\n",
        " seed=42,\n",
        " eval_metric='rmse'\n",
        " )\n",
        "\n",
        "xgb.fit(X_train, y_train, eval_metric='rmse', \n",
        "          eval_set=[(X_test, y_test)], early_stopping_rounds=200, verbose=100)"
      ],
      "execution_count": 46,
      "outputs": [
        {
          "output_type": "stream",
          "text": [
            "[13:53:33] WARNING: /workspace/src/objective/regression_obj.cu:152: reg:linear is now deprecated in favor of reg:squarederror.\n",
            "[0]\tvalidation_0-rmse:0.69848\n",
            "Will train until validation_0-rmse hasn't improved in 200 rounds.\n",
            "[100]\tvalidation_0-rmse:0.510103\n",
            "[200]\tvalidation_0-rmse:0.459916\n",
            "[300]\tvalidation_0-rmse:0.448501\n",
            "[400]\tvalidation_0-rmse:0.446443\n",
            "[500]\tvalidation_0-rmse:0.445372\n",
            "[600]\tvalidation_0-rmse:0.445041\n",
            "[700]\tvalidation_0-rmse:0.444847\n",
            "[800]\tvalidation_0-rmse:0.444597\n",
            "[900]\tvalidation_0-rmse:0.44446\n",
            "[1000]\tvalidation_0-rmse:0.444401\n",
            "[1100]\tvalidation_0-rmse:0.444188\n",
            "[1200]\tvalidation_0-rmse:0.444072\n",
            "[1300]\tvalidation_0-rmse:0.444081\n",
            "[1400]\tvalidation_0-rmse:0.444304\n",
            "Stopping. Best iteration:\n",
            "[1215]\tvalidation_0-rmse:0.444048\n",
            "\n"
          ],
          "name": "stdout"
        },
        {
          "output_type": "execute_result",
          "data": {
            "text/plain": [
              "XGBRegressor(base_score=0.5, booster='gbtree', colsample_bylevel=1,\n",
              "             colsample_bynode=1, colsample_bytree=1, eval_metric='rmse',\n",
              "             gamma=0, importance_type='gain', learning_rate=0.008,\n",
              "             max_delta_step=0, max_depth=3, min_child_weight=1, missing=None,\n",
              "             n_estimators=10000, n_jobs=1, nthread=None, objective='reg:linear',\n",
              "             random_state=0, reg_alpha=0, reg_lambda=1, scale_pos_weight=1,\n",
              "             seed=42, silent=None, subsample=1, verbosity=1)"
            ]
          },
          "metadata": {
            "tags": []
          },
          "execution_count": 46
        }
      ]
    },
    {
      "cell_type": "code",
      "metadata": {
        "id": "vbzwYIwiQA_k",
        "colab_type": "code",
        "colab": {
          "base_uri": "https://localhost:8080/",
          "height": 136
        },
        "outputId": "6e6d1688-6274-4cd3-bd74-6d955445dcd0"
      },
      "source": [
        "score=cross_val_score(X=X,y=y,estimator=xgb,scoring='neg_root_mean_squared_error',cv=5)\n",
        "print(\"Scores : \",score)\n",
        "print(\"Mean score : \",np.mean(score))"
      ],
      "execution_count": 47,
      "outputs": [
        {
          "output_type": "stream",
          "text": [
            "[13:53:41] WARNING: /workspace/src/objective/regression_obj.cu:152: reg:linear is now deprecated in favor of reg:squarederror.\n",
            "[13:54:29] WARNING: /workspace/src/objective/regression_obj.cu:152: reg:linear is now deprecated in favor of reg:squarederror.\n",
            "[13:55:18] WARNING: /workspace/src/objective/regression_obj.cu:152: reg:linear is now deprecated in favor of reg:squarederror.\n",
            "[13:56:08] WARNING: /workspace/src/objective/regression_obj.cu:152: reg:linear is now deprecated in favor of reg:squarederror.\n",
            "[13:56:57] WARNING: /workspace/src/objective/regression_obj.cu:152: reg:linear is now deprecated in favor of reg:squarederror.\n",
            "Scores :  [-0.47492918 -0.48579562 -0.45791263 -0.4662083  -0.47451109]\n",
            "Mean score :  -0.47187136536196644\n"
          ],
          "name": "stdout"
        }
      ]
    },
    {
      "cell_type": "code",
      "metadata": {
        "id": "nHtSC_z-RVpR",
        "colab_type": "code",
        "colab": {
          "base_uri": "https://localhost:8080/",
          "height": 1000
        },
        "outputId": "e9453d2c-a1ca-40e4-bc40-fe9c268525c7"
      },
      "source": [
        "pd.DataFrame(list(zip(X.columns,xgb.feature_importances_)))"
      ],
      "execution_count": 48,
      "outputs": [
        {
          "output_type": "execute_result",
          "data": {
            "text/html": [
              "<div>\n",
              "<style scoped>\n",
              "    .dataframe tbody tr th:only-of-type {\n",
              "        vertical-align: middle;\n",
              "    }\n",
              "\n",
              "    .dataframe tbody tr th {\n",
              "        vertical-align: top;\n",
              "    }\n",
              "\n",
              "    .dataframe thead th {\n",
              "        text-align: right;\n",
              "    }\n",
              "</style>\n",
              "<table border=\"1\" class=\"dataframe\">\n",
              "  <thead>\n",
              "    <tr style=\"text-align: right;\">\n",
              "      <th></th>\n",
              "      <th>0</th>\n",
              "      <th>1</th>\n",
              "    </tr>\n",
              "  </thead>\n",
              "  <tbody>\n",
              "    <tr>\n",
              "      <th>0</th>\n",
              "      <td>CONSOLE</td>\n",
              "      <td>0.019595</td>\n",
              "    </tr>\n",
              "    <tr>\n",
              "      <th>1</th>\n",
              "      <td>YEAR</td>\n",
              "      <td>0.014189</td>\n",
              "    </tr>\n",
              "    <tr>\n",
              "      <th>2</th>\n",
              "      <td>CATEGORY</td>\n",
              "      <td>0.016089</td>\n",
              "    </tr>\n",
              "    <tr>\n",
              "      <th>3</th>\n",
              "      <td>PUBLISHER</td>\n",
              "      <td>0.013610</td>\n",
              "    </tr>\n",
              "    <tr>\n",
              "      <th>4</th>\n",
              "      <td>RATING</td>\n",
              "      <td>0.045575</td>\n",
              "    </tr>\n",
              "    <tr>\n",
              "      <th>5</th>\n",
              "      <td>CRITICS_POINTS</td>\n",
              "      <td>0.017155</td>\n",
              "    </tr>\n",
              "    <tr>\n",
              "      <th>6</th>\n",
              "      <td>USER_POINTS</td>\n",
              "      <td>0.071527</td>\n",
              "    </tr>\n",
              "    <tr>\n",
              "      <th>7</th>\n",
              "      <td>Unique_Game_Per_Console</td>\n",
              "      <td>0.018157</td>\n",
              "    </tr>\n",
              "    <tr>\n",
              "      <th>8</th>\n",
              "      <td>Unique_Game_Per_Category</td>\n",
              "      <td>0.009257</td>\n",
              "    </tr>\n",
              "    <tr>\n",
              "      <th>9</th>\n",
              "      <td>Unique_Game_Per_Publisher</td>\n",
              "      <td>0.047156</td>\n",
              "    </tr>\n",
              "    <tr>\n",
              "      <th>10</th>\n",
              "      <td>Unique_Game_Per_Rating</td>\n",
              "      <td>0.029770</td>\n",
              "    </tr>\n",
              "    <tr>\n",
              "      <th>11</th>\n",
              "      <td>Unique_Game_Per_Year</td>\n",
              "      <td>0.019033</td>\n",
              "    </tr>\n",
              "    <tr>\n",
              "      <th>12</th>\n",
              "      <td>Unique_Category_Per_Publisher</td>\n",
              "      <td>0.015906</td>\n",
              "    </tr>\n",
              "    <tr>\n",
              "      <th>13</th>\n",
              "      <td>Unique_Publisher_Per_Category</td>\n",
              "      <td>0.028587</td>\n",
              "    </tr>\n",
              "    <tr>\n",
              "      <th>14</th>\n",
              "      <td>Unique_Console_Per_Publisher</td>\n",
              "      <td>0.017542</td>\n",
              "    </tr>\n",
              "    <tr>\n",
              "      <th>15</th>\n",
              "      <td>Unique_Publisher_Per_Console</td>\n",
              "      <td>0.103765</td>\n",
              "    </tr>\n",
              "    <tr>\n",
              "      <th>16</th>\n",
              "      <td>Unique_Console_Per_Year</td>\n",
              "      <td>0.012429</td>\n",
              "    </tr>\n",
              "    <tr>\n",
              "      <th>17</th>\n",
              "      <td>Unique_Year_Per_Console</td>\n",
              "      <td>0.015030</td>\n",
              "    </tr>\n",
              "    <tr>\n",
              "      <th>18</th>\n",
              "      <td>Unique_Category_Per_Rating</td>\n",
              "      <td>0.010178</td>\n",
              "    </tr>\n",
              "    <tr>\n",
              "      <th>19</th>\n",
              "      <td>Unique_Rating_Per_Category</td>\n",
              "      <td>0.019823</td>\n",
              "    </tr>\n",
              "    <tr>\n",
              "      <th>20</th>\n",
              "      <td>Unique_Publisher_Per_Rating</td>\n",
              "      <td>0.000000</td>\n",
              "    </tr>\n",
              "    <tr>\n",
              "      <th>21</th>\n",
              "      <td>Unique_Rating_Per_Publisher</td>\n",
              "      <td>0.022352</td>\n",
              "    </tr>\n",
              "    <tr>\n",
              "      <th>22</th>\n",
              "      <td>Std_Critic_Rating_Per_Console</td>\n",
              "      <td>0.012106</td>\n",
              "    </tr>\n",
              "    <tr>\n",
              "      <th>23</th>\n",
              "      <td>Std_Critic_Rating_Per_Category</td>\n",
              "      <td>0.018280</td>\n",
              "    </tr>\n",
              "    <tr>\n",
              "      <th>24</th>\n",
              "      <td>Std_Critic_Rating_Per_Publisher</td>\n",
              "      <td>0.015676</td>\n",
              "    </tr>\n",
              "    <tr>\n",
              "      <th>25</th>\n",
              "      <td>Std_Critic_Rating_Per_Rating</td>\n",
              "      <td>0.000000</td>\n",
              "    </tr>\n",
              "    <tr>\n",
              "      <th>26</th>\n",
              "      <td>Std_Critic_Rating_Per_Year</td>\n",
              "      <td>0.017578</td>\n",
              "    </tr>\n",
              "    <tr>\n",
              "      <th>27</th>\n",
              "      <td>Std_User_Rating_Per_Console</td>\n",
              "      <td>0.081825</td>\n",
              "    </tr>\n",
              "    <tr>\n",
              "      <th>28</th>\n",
              "      <td>Std_User_Rating_Per_Category</td>\n",
              "      <td>0.020017</td>\n",
              "    </tr>\n",
              "    <tr>\n",
              "      <th>29</th>\n",
              "      <td>Std_User_Rating_Per_Publisher</td>\n",
              "      <td>0.018384</td>\n",
              "    </tr>\n",
              "    <tr>\n",
              "      <th>30</th>\n",
              "      <td>Std_User_Rating_Per_Rating</td>\n",
              "      <td>0.000000</td>\n",
              "    </tr>\n",
              "    <tr>\n",
              "      <th>31</th>\n",
              "      <td>Std_User_Rating_Per_Year</td>\n",
              "      <td>0.027458</td>\n",
              "    </tr>\n",
              "    <tr>\n",
              "      <th>32</th>\n",
              "      <td>Std_Critic_Rating_Per_Console_Year</td>\n",
              "      <td>0.014147</td>\n",
              "    </tr>\n",
              "    <tr>\n",
              "      <th>33</th>\n",
              "      <td>Std_Critic_Rating_Per_Category_Year</td>\n",
              "      <td>0.014448</td>\n",
              "    </tr>\n",
              "    <tr>\n",
              "      <th>34</th>\n",
              "      <td>Std_Critic_Rating_Per_Publisher_Year</td>\n",
              "      <td>0.018490</td>\n",
              "    </tr>\n",
              "    <tr>\n",
              "      <th>35</th>\n",
              "      <td>Std_User_Rating_Per_Console_Year</td>\n",
              "      <td>0.026951</td>\n",
              "    </tr>\n",
              "    <tr>\n",
              "      <th>36</th>\n",
              "      <td>Std_User_Rating_Per_Category_Year</td>\n",
              "      <td>0.014204</td>\n",
              "    </tr>\n",
              "    <tr>\n",
              "      <th>37</th>\n",
              "      <td>Std_User_Rating_Per_Publisher_Year</td>\n",
              "      <td>0.014877</td>\n",
              "    </tr>\n",
              "    <tr>\n",
              "      <th>38</th>\n",
              "      <td>Std_Critic_Rating_Per_Console_Category</td>\n",
              "      <td>0.018530</td>\n",
              "    </tr>\n",
              "    <tr>\n",
              "      <th>39</th>\n",
              "      <td>Std_Critic_Rating_Per_Category_Publisher</td>\n",
              "      <td>0.020869</td>\n",
              "    </tr>\n",
              "    <tr>\n",
              "      <th>40</th>\n",
              "      <td>Std_Critic_Rating_Per_Publisher_Console</td>\n",
              "      <td>0.017794</td>\n",
              "    </tr>\n",
              "    <tr>\n",
              "      <th>41</th>\n",
              "      <td>Std_User_Rating_Per_Console_Category</td>\n",
              "      <td>0.024311</td>\n",
              "    </tr>\n",
              "    <tr>\n",
              "      <th>42</th>\n",
              "      <td>Std_User_Rating_Per_Category_Publisher</td>\n",
              "      <td>0.019647</td>\n",
              "    </tr>\n",
              "    <tr>\n",
              "      <th>43</th>\n",
              "      <td>Std_User_Rating_Per_Publisher_Console</td>\n",
              "      <td>0.017685</td>\n",
              "    </tr>\n",
              "  </tbody>\n",
              "</table>\n",
              "</div>"
            ],
            "text/plain": [
              "                                           0         1\n",
              "0                                    CONSOLE  0.019595\n",
              "1                                       YEAR  0.014189\n",
              "2                                   CATEGORY  0.016089\n",
              "3                                  PUBLISHER  0.013610\n",
              "4                                     RATING  0.045575\n",
              "5                             CRITICS_POINTS  0.017155\n",
              "6                                USER_POINTS  0.071527\n",
              "7                    Unique_Game_Per_Console  0.018157\n",
              "8                   Unique_Game_Per_Category  0.009257\n",
              "9                  Unique_Game_Per_Publisher  0.047156\n",
              "10                    Unique_Game_Per_Rating  0.029770\n",
              "11                      Unique_Game_Per_Year  0.019033\n",
              "12             Unique_Category_Per_Publisher  0.015906\n",
              "13             Unique_Publisher_Per_Category  0.028587\n",
              "14              Unique_Console_Per_Publisher  0.017542\n",
              "15              Unique_Publisher_Per_Console  0.103765\n",
              "16                   Unique_Console_Per_Year  0.012429\n",
              "17                   Unique_Year_Per_Console  0.015030\n",
              "18                Unique_Category_Per_Rating  0.010178\n",
              "19                Unique_Rating_Per_Category  0.019823\n",
              "20               Unique_Publisher_Per_Rating  0.000000\n",
              "21               Unique_Rating_Per_Publisher  0.022352\n",
              "22             Std_Critic_Rating_Per_Console  0.012106\n",
              "23            Std_Critic_Rating_Per_Category  0.018280\n",
              "24           Std_Critic_Rating_Per_Publisher  0.015676\n",
              "25              Std_Critic_Rating_Per_Rating  0.000000\n",
              "26                Std_Critic_Rating_Per_Year  0.017578\n",
              "27               Std_User_Rating_Per_Console  0.081825\n",
              "28              Std_User_Rating_Per_Category  0.020017\n",
              "29             Std_User_Rating_Per_Publisher  0.018384\n",
              "30                Std_User_Rating_Per_Rating  0.000000\n",
              "31                  Std_User_Rating_Per_Year  0.027458\n",
              "32        Std_Critic_Rating_Per_Console_Year  0.014147\n",
              "33       Std_Critic_Rating_Per_Category_Year  0.014448\n",
              "34      Std_Critic_Rating_Per_Publisher_Year  0.018490\n",
              "35          Std_User_Rating_Per_Console_Year  0.026951\n",
              "36         Std_User_Rating_Per_Category_Year  0.014204\n",
              "37        Std_User_Rating_Per_Publisher_Year  0.014877\n",
              "38    Std_Critic_Rating_Per_Console_Category  0.018530\n",
              "39  Std_Critic_Rating_Per_Category_Publisher  0.020869\n",
              "40   Std_Critic_Rating_Per_Publisher_Console  0.017794\n",
              "41      Std_User_Rating_Per_Console_Category  0.024311\n",
              "42    Std_User_Rating_Per_Category_Publisher  0.019647\n",
              "43     Std_User_Rating_Per_Publisher_Console  0.017685"
            ]
          },
          "metadata": {
            "tags": []
          },
          "execution_count": 48
        }
      ]
    },
    {
      "cell_type": "code",
      "metadata": {
        "id": "rObyBmM_QPET",
        "colab_type": "code",
        "colab": {}
      },
      "source": [
        "xgb_preds=xgb.predict(test_data.drop([ID_COL,TARGET_COL],axis=1))\n",
        "xgb_preds=np.expm1(xgb_preds)"
      ],
      "execution_count": 49,
      "outputs": []
    },
    {
      "cell_type": "markdown",
      "metadata": {
        "id": "XeA6wl9e6Gm5",
        "colab_type": "text"
      },
      "source": [
        "##BLEND"
      ]
    },
    {
      "cell_type": "code",
      "metadata": {
        "id": "2bd08eba6F3a",
        "colab_type": "code",
        "colab": {}
      },
      "source": [
        "preds = lgbm_preds*0.65 + xgb_preds*0.35"
      ],
      "execution_count": 50,
      "outputs": []
    },
    {
      "cell_type": "markdown",
      "metadata": {
        "id": "wICHPXoz6ivH",
        "colab_type": "text"
      },
      "source": [
        "##SUBMIT"
      ]
    },
    {
      "cell_type": "code",
      "metadata": {
        "id": "sB-PqQSH6F1W",
        "colab_type": "code",
        "colab": {
          "base_uri": "https://localhost:8080/",
          "height": 204
        },
        "outputId": "efee544a-fdbe-4062-9416-05102512e9c2"
      },
      "source": [
        "sub = sample_sub.copy()\n",
        "sub[TARGET_COL] = np.abs(preds)\n",
        "sub.head()"
      ],
      "execution_count": 51,
      "outputs": [
        {
          "output_type": "execute_result",
          "data": {
            "text/html": [
              "<div>\n",
              "<style scoped>\n",
              "    .dataframe tbody tr th:only-of-type {\n",
              "        vertical-align: middle;\n",
              "    }\n",
              "\n",
              "    .dataframe tbody tr th {\n",
              "        vertical-align: top;\n",
              "    }\n",
              "\n",
              "    .dataframe thead th {\n",
              "        text-align: right;\n",
              "    }\n",
              "</style>\n",
              "<table border=\"1\" class=\"dataframe\">\n",
              "  <thead>\n",
              "    <tr style=\"text-align: right;\">\n",
              "      <th></th>\n",
              "      <th>SalesInMillions</th>\n",
              "    </tr>\n",
              "  </thead>\n",
              "  <tbody>\n",
              "    <tr>\n",
              "      <th>0</th>\n",
              "      <td>1.607829</td>\n",
              "    </tr>\n",
              "    <tr>\n",
              "      <th>1</th>\n",
              "      <td>1.982994</td>\n",
              "    </tr>\n",
              "    <tr>\n",
              "      <th>2</th>\n",
              "      <td>3.152798</td>\n",
              "    </tr>\n",
              "    <tr>\n",
              "      <th>3</th>\n",
              "      <td>1.698403</td>\n",
              "    </tr>\n",
              "    <tr>\n",
              "      <th>4</th>\n",
              "      <td>1.440778</td>\n",
              "    </tr>\n",
              "  </tbody>\n",
              "</table>\n",
              "</div>"
            ],
            "text/plain": [
              "   SalesInMillions\n",
              "0         1.607829\n",
              "1         1.982994\n",
              "2         3.152798\n",
              "3         1.698403\n",
              "4         1.440778"
            ]
          },
          "metadata": {
            "tags": []
          },
          "execution_count": 51
        }
      ]
    },
    {
      "cell_type": "code",
      "metadata": {
        "id": "uUBlgWNJ6iJD",
        "colab_type": "code",
        "colab": {}
      },
      "source": [
        "FILENAME = \"submission_BLEND_6.csv\"\n",
        "sub.to_csv(FILENAME,index=False)"
      ],
      "execution_count": null,
      "outputs": []
    }
  ]
}